{
 "cells": [
  {
   "cell_type": "code",
   "execution_count": 2,
   "source": [
    "import sys\n",
    "import numpy as np\n",
    "import matplotlib as mp\n",
    "import pandas as pd\n",
    "import sklearn\n",
    "\n",
    "print(\"Python version: \",sys.version)\n",
    "print(\"Numpy version: \",np.__version__)\n",
    "print(\"Matplotlib version: \",mp.__version__)\n",
    "print(\"Pandas version: \",pd.__version__)\n",
    "print(\"Sklearn version: \",sklearn.__version__)"
   ],
   "outputs": [
    {
     "output_type": "stream",
     "name": "stdout",
     "text": [
      "Python version:  3.8.10 (default, Jun  2 2021, 10:49:15) \n",
      "[GCC 9.4.0]\n",
      "Numpy version:  1.19.5\n",
      "Matplotlib version:  3.4.2\n",
      "Pandas version:  1.3.0\n",
      "Sklearn version:  0.24.2\n"
     ]
    }
   ],
   "metadata": {}
  },
  {
   "cell_type": "code",
   "execution_count": 4,
   "source": [
    "from sklearn import preprocessing\n",
    "from sklearn.model_selection import train_test_split,cross_val_score\n",
    "from sklearn.neighbors import KNeighborsClassifier\n",
    "from sklearn.svm import SVC\n",
    "from sklearn.metrics import classification_report,accuracy_score\n",
    "from pandas.plotting import scatter_matrix"
   ],
   "outputs": [],
   "metadata": {}
  }
 ],
 "metadata": {
  "orig_nbformat": 4,
  "language_info": {
   "name": "python",
   "version": "3.8.10",
   "mimetype": "text/x-python",
   "codemirror_mode": {
    "name": "ipython",
    "version": 3
   },
   "pygments_lexer": "ipython3",
   "nbconvert_exporter": "python",
   "file_extension": ".py"
  },
  "kernelspec": {
   "name": "python3",
   "display_name": "Python 3.8.10 64-bit"
  },
  "interpreter": {
   "hash": "916dbcbb3f70747c44a77c7bcd40155683ae19c65e1c03b4aa3499c5328201f1"
  }
 },
 "nbformat": 4,
 "nbformat_minor": 2
}